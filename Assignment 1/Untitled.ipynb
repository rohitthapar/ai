{
 "cells": [
  {
   "cell_type": "code",
   "execution_count": 4,
   "id": "5fe55439",
   "metadata": {},
   "outputs": [
    {
     "name": "stdout",
     "output_type": "stream",
     "text": [
      "2.5\n"
     ]
    }
   ],
   "source": [
    "import math\n",
    "x = int(input(\"Enter value of x \"))\n",
    "n = int(input(\"Enter value of n \"))\n",
    "sm = 0\n",
    "sm = float(sm)\n",
    "for i in range(1,n+1,1):\n",
    "    y = math.pow(x,i)\n",
    "    z = math.factorial(i)\n",
    "    sm = float(sm + y/z)\n",
    "print(sm+1)"
   ]
  },
  {
   "cell_type": "code",
   "execution_count": 3,
   "id": "865ce2c0",
   "metadata": {},
   "outputs": [
    {
     "name": "stdout",
     "output_type": "stream",
     "text": [
      "-----ODD NUMBERS----- 353 863 285 125 699 427 471 765 273 447 521 827 459 263 513 319 639 199 629 485 273 443 101 571 511 267 415 107 161 333 195 873 791 391 823 119 797 177 641 369 559 723 441 489 -----EVEN NUMBERS-----\n",
      "666 856 426 442 462 410 314 240 634 134 154 780 284 484 174 528 246 230 764 132 832 482 326 412 594 436 752 438 314 326 518 288 770 790 214 432 864 842 342 114 594 124 824 242 602 420 886 824 318 416 426 162 154 806 284 654 124 728 190 736 156 770 442 482 882 616 628 240 590 202 332 598 738 776 604 274 320 514 532 174 154 112 388 896 636 574 602 402 450 524 686 408 184 206 696 368 648 270 882 420 258 250 244 698 180 572 524 438 712 124 654 832 556 514 578 566 250 256 888 744 502 276 656 316 200 674 280 216 530 590 280 294 566 674 178 290 314 234 452 816 816 866 784 762 652 132 862 126 412 850 464 666 666 530 704 178 274 636 456 348 780 272 196 518 758 760 686 824 770 400 262 382 770 394 182 440 552 234 702 182 808 356 602 402 280 556 744 354 176 260 444 342 452 864 154 762 786 162 416 460 298 388 846 382 516 140 250 494 100 504 658 710 876 354 424 858 662 400 858 806 706 620 422 146 152 788 206 580 398 138 272 182 826 558 190 166 116 378 560 646 444 798 408 728 628 720 "
     ]
    }
   ],
   "source": [
    "import numpy as np\n",
    "def Rand(start, end, num):\n",
    "    res = []\n",
    "    for j in range(num):\n",
    "        res.append(np.random.randint(start, end))\n",
    "    return res\n",
    "num = 100\n",
    "start = 100\n",
    "end = 900\n",
    "print(\"-----ODD NUMBERS-----\",end=' ')\n",
    "for num in Rand(start, end, num):\n",
    "    if num % 2 != 0:\n",
    "        print(num , end = ' ')\n",
    "print(\"-----EVEN NUMBERS-----\")\n",
    "for num in Rand(start, end, num):\n",
    "    if num % 2 == 0:\n",
    "        print(num , end = ' ')\n",
    "# print(Rand(start, end, num))"
   ]
  },
  {
   "cell_type": "code",
   "execution_count": null,
   "id": "6b24490f",
   "metadata": {},
   "outputs": [],
   "source": [
    "#common elements from two lists\n",
    "def common_member(a, b):\n",
    "    a_set = set(a)\n",
    "    b_set = set(b)\n",
    " \n",
    "    if (a_set & b_set):\n",
    "        print(a_set & b_set)\n",
    "    else:\n",
    "        print(\"No common elements\")\n",
    "lst = []\n",
    "n = int(input(\"Enter number of elements : \"))\n",
    "for i in range(0, n):\n",
    "    ele = int(input())\n",
    "    lst.append(ele) \n",
    "lst1 = []\n",
    "m = int(input(\"Enter number of elements : \"))\n",
    "for i in range(0, m):\n",
    "    ele = int(input())\n",
    "    lst1.append(ele) \n",
    "common_member(lst,lst1)\n"
   ]
  },
  {
   "cell_type": "code",
   "execution_count": null,
   "id": "cfc1f67d",
   "metadata": {},
   "outputs": [],
   "source": [
    "#print leap years between two years\n",
    "n = int(input(\"Enter first year \"))\n",
    "m = int(input(\"Enter second year \"))\n",
    "for i in range(n,m+1,1):\n",
    "    if i%4 == 0 and i%100 != 0:\n",
    "        print(i,\"is a leap year\")\n",
    "    elif i%400 == 0:\n",
    "        print(i, \"is a leap year\")\n",
    "    else:\n",
    "        print(i, \"is not a leap year\")\n"
   ]
  },
  {
   "cell_type": "code",
   "execution_count": null,
   "id": "8a831511",
   "metadata": {},
   "outputs": [],
   "source": [
    "#gross salary of an employee\n",
    "# Write a Python Program to input basic salary of an employee and calculate its Gross\n",
    "# salary according to following: Basic Salary <= 10000 : HRA = 20%, DA = 80% Basic\n",
    "# Salary <= 20000 : HRA = 25%, DA = 90% Basic Salary > 20000 : HRA = 30%, DA =\n",
    "# 95%\n",
    "\n",
    "sal = int(input(\"Enter basic salary \"))\n",
    "if sal<=10000:\n",
    "    sal = float(sal + 0.2*sal + 0.8*sal)\n",
    "elif sal<=20000:\n",
    "    sal = float(sal + 0.25*sal + 0.9*sal)\n",
    "elif sal>20000:\n",
    "    sal = float(sal + 0.3*sal + 0.95*sal)\n",
    "print(sal)\n",
    "\n"
   ]
  },
  {
   "cell_type": "code",
   "execution_count": null,
   "id": "7388cfb7",
   "metadata": {},
   "outputs": [],
   "source": [
    "# Write a Python program to check the validity of password input by users.\n",
    "# Validation:\n",
    "#  At least 1 letter between [a-z] and 1 letter between [A-Z].\n",
    "#  At least 1 number between [0-9].\n",
    "#  At least 1 character from [$#@].\n",
    "#  Minimum length 6 characters.\n",
    "#  Maximum length 16 characters\n",
    "import re\n",
    "p= input(\"Enter Password \")\n",
    "x = True\n",
    "while x:  \n",
    "    if (len(p)<6 or len(p)>12):\n",
    "        break\n",
    "    elif not re.search(\"[a-z]\",p):\n",
    "        break\n",
    "    elif not re.search(\"[0-9]\",p):\n",
    "        break\n",
    "    elif not re.search(\"[A-Z]\",p):\n",
    "        break\n",
    "    elif not re.search(\"[$#@]\",p):\n",
    "        break\n",
    "    elif re.search(\"\\s\",p):\n",
    "        break\n",
    "    else:\n",
    "        print(\"Valid Password\")\n",
    "        x=False\n",
    "        break\n",
    "\n",
    "if x:\n",
    "    print(\"Not a Valid Password\")"
   ]
  },
  {
   "cell_type": "code",
   "execution_count": null,
   "id": "3d0e1ee6",
   "metadata": {},
   "outputs": [],
   "source": [
    "l = [10, 20, 30, 40, 50, 60, 70, 80]\n",
    "l.append(200)\n",
    "l.append(300)\n",
    "l.remove(10)\n",
    "l.remove(30)\n",
    "l.sort()\n",
    "print(l)\n",
    "l.sort(reverse=True)\n",
    "print(l)"
   ]
  },
  {
   "cell_type": "code",
   "execution_count": null,
   "id": "657dde75",
   "metadata": {},
   "outputs": [],
   "source": [
    "D = {1:\"One\", 2:\"Two\", 3:\"Three\", 4: \"Four\", 5:\"Five\"}\n",
    "D[6] = \"Six\"\n",
    "print(D)\n",
    "del D[2]\n",
    "print(D)\n",
    "print(D.has_key(6))\n",
    "count = 0\n",
    "count = int(count)\n",
    "print(sum([len(D[x]) for x in D if isinstance(D[x], list)]))\n",
    "# print(count)"
   ]
  }
 ],
 "metadata": {
  "kernelspec": {
   "display_name": "Python 3",
   "language": "python",
   "name": "python3"
  },
  "language_info": {
   "codemirror_mode": {
    "name": "ipython",
    "version": 3
   },
   "file_extension": ".py",
   "mimetype": "text/x-python",
   "name": "python",
   "nbconvert_exporter": "python",
   "pygments_lexer": "ipython3",
   "version": "3.8.8"
  }
 },
 "nbformat": 4,
 "nbformat_minor": 5
}
