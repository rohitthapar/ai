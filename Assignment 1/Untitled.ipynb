{
 "cells": [
  {
   "cell_type": "code",
   "execution_count": 7,
   "id": "27e41aef",
   "metadata": {},
   "outputs": [
    {
     "name": "stdout",
     "output_type": "stream",
     "text": [
      "7\n"
     ]
    }
   ],
   "source": [
    "import math\n",
    "sm = int(sm)\n",
    "sm = 0\n",
    "i = int(i)\n",
    "i = 1\n",
    "for i in range(1,4,1):\n",
    "    sm = sm + i\n",
    "print(sm + 1)"
   ]
  },
  {
   "cell_type": "code",
   "execution_count": 13,
   "id": "f791bd81",
   "metadata": {},
   "outputs": [
    {
     "name": "stdout",
     "output_type": "stream",
     "text": [
      "Enter value of x 1\n",
      "Enter value of n 2\n",
      "2.0\n"
     ]
    }
   ],
   "source": [
    "import math\n",
    "x = int(input(\"Enter value of x \"))\n",
    "n = int(input(\"Enter value of n \"))\n",
    "sm = int(sm)\n",
    "sm = 0\n",
    "for i in range(1,n,1):\n",
    "    y = math.pow(x,i)\n",
    "    z = math.factorial(i)\n",
    "    sm = sm + y/z\n",
    "print(sm+1)"
   ]
  },
  {
   "cell_type": "code",
   "execution_count": null,
   "id": "73f9e383",
   "metadata": {},
   "outputs": [],
   "source": []
  },
  {
   "cell_type": "code",
   "execution_count": null,
   "id": "2ed5926b",
   "metadata": {},
   "outputs": [],
   "source": []
  },
  {
   "cell_type": "code",
   "execution_count": null,
   "id": "f7b54113",
   "metadata": {},
   "outputs": [],
   "source": []
  }
 ],
 "metadata": {
  "kernelspec": {
   "display_name": "Python 3",
   "language": "python",
   "name": "python3"
  },
  "language_info": {
   "codemirror_mode": {
    "name": "ipython",
    "version": 3
   },
   "file_extension": ".py",
   "mimetype": "text/x-python",
   "name": "python",
   "nbconvert_exporter": "python",
   "pygments_lexer": "ipython3",
   "version": "3.8.8"
  }
 },
 "nbformat": 4,
 "nbformat_minor": 5
}
