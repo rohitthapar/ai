{
 "cells": [
  {
   "cell_type": "code",
   "execution_count": 1,
   "id": "5fe55439",
   "metadata": {},
   "outputs": [
    {
     "ename": "ValueError",
     "evalue": "invalid literal for int() with base 10: ''",
     "output_type": "error",
     "traceback": [
      "\u001b[0;31m---------------------------------------------------------------------------\u001b[0m",
      "\u001b[0;31mValueError\u001b[0m                                Traceback (most recent call last)",
      "\u001b[0;32m<ipython-input-1-8c5091180863>\u001b[0m in \u001b[0;36m<module>\u001b[0;34m\u001b[0m\n\u001b[1;32m      1\u001b[0m \u001b[0;32mimport\u001b[0m \u001b[0mmath\u001b[0m\u001b[0;34m\u001b[0m\u001b[0;34m\u001b[0m\u001b[0m\n\u001b[0;32m----> 2\u001b[0;31m \u001b[0mx\u001b[0m \u001b[0;34m=\u001b[0m \u001b[0mint\u001b[0m\u001b[0;34m(\u001b[0m\u001b[0minput\u001b[0m\u001b[0;34m(\u001b[0m\u001b[0;34m\"Enter value of x \"\u001b[0m\u001b[0;34m)\u001b[0m\u001b[0;34m)\u001b[0m\u001b[0;34m\u001b[0m\u001b[0;34m\u001b[0m\u001b[0m\n\u001b[0m\u001b[1;32m      3\u001b[0m \u001b[0mn\u001b[0m \u001b[0;34m=\u001b[0m \u001b[0mint\u001b[0m\u001b[0;34m(\u001b[0m\u001b[0minput\u001b[0m\u001b[0;34m(\u001b[0m\u001b[0;34m\"Enter value of n \"\u001b[0m\u001b[0;34m)\u001b[0m\u001b[0;34m)\u001b[0m\u001b[0;34m\u001b[0m\u001b[0;34m\u001b[0m\u001b[0m\n\u001b[1;32m      4\u001b[0m \u001b[0msm\u001b[0m \u001b[0;34m=\u001b[0m \u001b[0;36m0\u001b[0m\u001b[0;34m\u001b[0m\u001b[0;34m\u001b[0m\u001b[0m\n\u001b[1;32m      5\u001b[0m \u001b[0msm\u001b[0m \u001b[0;34m=\u001b[0m \u001b[0mfloat\u001b[0m\u001b[0;34m(\u001b[0m\u001b[0msm\u001b[0m\u001b[0;34m)\u001b[0m\u001b[0;34m\u001b[0m\u001b[0;34m\u001b[0m\u001b[0m\n",
      "\u001b[0;31mValueError\u001b[0m: invalid literal for int() with base 10: ''"
     ]
    }
   ],
   "source": [
    "import math\n",
    "x = int(input(\"Enter value of x \"))\n",
    "n = int(input(\"Enter value of n \"))\n",
    "sm = 0\n",
    "sm = float(sm)\n",
    "for i in range(1,n+1,1):\n",
    "    y = math.pow(x,i)\n",
    "    z = math.factorial(i)\n",
    "    sm = float(sm + y/z)\n",
    "print(sm+1)"
   ]
  },
  {
   "cell_type": "code",
   "execution_count": 3,
   "id": "865ce2c0",
   "metadata": {},
   "outputs": [
    {
     "name": "stdout",
     "output_type": "stream",
     "text": [
      "-----ODD NUMBERS----- 353 863 285 125 699 427 471 765 273 447 521 827 459 263 513 319 639 199 629 485 273 443 101 571 511 267 415 107 161 333 195 873 791 391 823 119 797 177 641 369 559 723 441 489 -----EVEN NUMBERS-----\n",
      "666 856 426 442 462 410 314 240 634 134 154 780 284 484 174 528 246 230 764 132 832 482 326 412 594 436 752 438 314 326 518 288 770 790 214 432 864 842 342 114 594 124 824 242 602 420 886 824 318 416 426 162 154 806 284 654 124 728 190 736 156 770 442 482 882 616 628 240 590 202 332 598 738 776 604 274 320 514 532 174 154 112 388 896 636 574 602 402 450 524 686 408 184 206 696 368 648 270 882 420 258 250 244 698 180 572 524 438 712 124 654 832 556 514 578 566 250 256 888 744 502 276 656 316 200 674 280 216 530 590 280 294 566 674 178 290 314 234 452 816 816 866 784 762 652 132 862 126 412 850 464 666 666 530 704 178 274 636 456 348 780 272 196 518 758 760 686 824 770 400 262 382 770 394 182 440 552 234 702 182 808 356 602 402 280 556 744 354 176 260 444 342 452 864 154 762 786 162 416 460 298 388 846 382 516 140 250 494 100 504 658 710 876 354 424 858 662 400 858 806 706 620 422 146 152 788 206 580 398 138 272 182 826 558 190 166 116 378 560 646 444 798 408 728 628 720 "
     ]
    }
   ],
   "source": [
    "import numpy as np\n",
    "def Rand(start, end, num):\n",
    "    res = []\n",
    "    for j in range(num):\n",
    "        res.append(np.random.randint(start, end))\n",
    "    return res\n",
    "num = 100\n",
    "start = 100\n",
    "end = 900\n",
    "print(\"-----ODD NUMBERS-----\",end=' ')\n",
    "for num in Rand(start, end, num):\n",
    "    if num % 2 != 0:\n",
    "        print(num , end = ' ')\n",
    "print(\"-----EVEN NUMBERS-----\")\n",
    "for num in Rand(start, end, num):\n",
    "    if num % 2 == 0:\n",
    "        print(num , end = ' ')\n",
    "# print(Rand(start, end, num))"
   ]
  },
  {
   "cell_type": "code",
   "execution_count": null,
   "id": "6b24490f",
   "metadata": {},
   "outputs": [],
   "source": []
  },
  {
   "cell_type": "code",
   "execution_count": null,
   "id": "cfc1f67d",
   "metadata": {},
   "outputs": [],
   "source": []
  }
 ],
 "metadata": {
  "kernelspec": {
   "display_name": "Python 3",
   "language": "python",
   "name": "python3"
  },
  "language_info": {
   "codemirror_mode": {
    "name": "ipython",
    "version": 3
   },
   "file_extension": ".py",
   "mimetype": "text/x-python",
   "name": "python",
   "nbconvert_exporter": "python",
   "pygments_lexer": "ipython3",
   "version": "3.8.8"
  }
 },
 "nbformat": 4,
 "nbformat_minor": 5
}
